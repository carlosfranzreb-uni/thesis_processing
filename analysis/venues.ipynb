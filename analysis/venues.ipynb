{
 "cells": [
  {
   "cell_type": "code",
   "execution_count": 1,
   "source": [
    "import json\r\n",
    "from matplotlib import pyplot as plt\r\n",
    "from collections import Counter"
   ],
   "outputs": [],
   "metadata": {}
  },
  {
   "cell_type": "code",
   "execution_count": 2,
   "source": [
    "venues = json.load(open('../data/json/dim/all/relevant_venues.json'))"
   ],
   "outputs": [],
   "metadata": {}
  },
  {
   "cell_type": "code",
   "execution_count": 3,
   "source": [
    "cnt = Counter(venues.values())"
   ],
   "outputs": [],
   "metadata": {}
  },
  {
   "cell_type": "code",
   "execution_count": 4,
   "source": [
    "cnt.most_common(5)"
   ],
   "outputs": [
    {
     "output_type": "execute_result",
     "data": {
      "text/plain": [
       "[(None, 2345),\n",
       " ('Sonderforschungsbereich 649: Ökonomisches Risiko', 809),\n",
       " ('Sonderforschungsbereich 373: Quantification and Simulation of Economic Processes',\n",
       "  583),\n",
       " ('PLoS ONE', 533),\n",
       " ('Scientific Reports', 367)]"
      ]
     },
     "metadata": {},
     "execution_count": 4
    }
   ],
   "metadata": {}
  },
  {
   "cell_type": "code",
   "execution_count": 5,
   "source": [
    "print(f'{cnt[None]} publications don\\'t have a venue ({round(cnt[None] / len(venues), 2)}).')"
   ],
   "outputs": [
    {
     "output_type": "stream",
     "name": "stdout",
     "text": [
      "2345 publications don't have a venue (0.13).\n"
     ]
    }
   ],
   "metadata": {}
  },
  {
   "cell_type": "code",
   "execution_count": 6,
   "source": [
    "tu_total = sum(['depositonce' in pub for pub in venues])\r\n",
    "hu_total = sum(['edoc' in pub for pub in venues])\r\n",
    "fu_total = sum(['refubium' in pub for pub in venues])\r\n",
    "tu_total, hu_total, fu_total"
   ],
   "outputs": [
    {
     "output_type": "execute_result",
     "data": {
      "text/plain": [
       "(4162, 4823, 9649)"
      ]
     },
     "metadata": {},
     "execution_count": 6
    }
   ],
   "metadata": {}
  },
  {
   "cell_type": "code",
   "execution_count": 7,
   "source": [
    "tu_none, hu_none, fu_none = 0, 0, 0\r\n",
    "for pub, venue in venues.items():\r\n",
    "    if venue is None:\r\n",
    "        if 'depositonce' in pub:\r\n",
    "            tu_none += 1\r\n",
    "        elif 'edoc' in pub:\r\n",
    "            hu_none += 1\r\n",
    "        elif 'refubium' in pub:\r\n",
    "            fu_none += 1\r\n",
    "        else:\r\n",
    "            raise Exception\r\n",
    "print(f'{tu_none} out of {tu_total} ({round(tu_none/tu_total, 2)}) TU publications do not have a venue.')\r\n",
    "print(f'{hu_none} out of {hu_total} ({round(hu_none/hu_total, 2)}) HU publications do not have a venue.')\r\n",
    "print(f'{fu_none} out of {fu_total} ({round(fu_none/fu_total, 2)}) FU publications do not have a venue.')\r\n",
    "plt.pie([tu_none, hu_none, fu_none], labels=['TU', 'HU', 'FU'])\r\n",
    "plt.legend()\r\n",
    "plt.show()"
   ],
   "outputs": [
    {
     "output_type": "stream",
     "name": "stdout",
     "text": [
      "321 out of 4162 (0.08) TU publications do not have a venue.\n",
      "148 out of 4823 (0.03) HU publications do not have a venue.\n",
      "1876 out of 9649 (0.19) FU publications do not have a venue.\n"
     ]
    },
    {
     "output_type": "display_data",
     "data": {
      "text/plain": [
       "<Figure size 432x288 with 1 Axes>"
      ],
      "image/svg+xml": "<?xml version=\"1.0\" encoding=\"utf-8\" standalone=\"no\"?>\r\n<!DOCTYPE svg PUBLIC \"-//W3C//DTD SVG 1.1//EN\"\r\n  \"http://www.w3.org/Graphics/SVG/1.1/DTD/svg11.dtd\">\r\n<!-- Created with matplotlib (https://matplotlib.org/) -->\r\n<svg height=\"231.84pt\" version=\"1.1\" viewBox=\"0 0 231.84 231.84\" width=\"231.84pt\" xmlns=\"http://www.w3.org/2000/svg\" xmlns:xlink=\"http://www.w3.org/1999/xlink\">\r\n <defs>\r\n  <style type=\"text/css\">\r\n*{stroke-linecap:butt;stroke-linejoin:round;}\r\n  </style>\r\n </defs>\r\n <g id=\"figure_1\">\r\n  <g id=\"patch_1\">\r\n   <path d=\"M 0 231.84 \r\nL 231.84 231.84 \r\nL 231.84 0 \r\nL 0 0 \r\nz\r\n\" style=\"fill:none;\"/>\r\n  </g>\r\n  <g id=\"axes_1\">\r\n   <g id=\"patch_2\">\r\n    <path d=\"M 202.896 115.92 \r\nC 202.896 103.40435 200.194539 91.034902 194.976639 79.658831 \r\nC 189.758739 68.282759 182.146305 58.165843 172.660707 50.000984 \r\nL 115.92 115.92 \r\nL 202.896 115.92 \r\nz\r\n\" style=\"fill:#1f77b4;\"/>\r\n   </g>\r\n   <g id=\"patch_3\">\r\n    <path d=\"M 172.660707 50.000984 \r\nC 168.300437 46.24782 163.57852 42.93652 158.564383 40.115771 \r\nC 153.550247 37.295021 148.268587 34.978714 142.797061 33.200908 \r\nL 115.92 115.92 \r\nL 172.660707 50.000984 \r\nz\r\n\" style=\"fill:#ff7f0e;\"/>\r\n   </g>\r\n   <g id=\"patch_4\">\r\n    <path d=\"M 142.797061 33.200908 \r\nC 134.116965 30.380574 125.04679 28.944 115.919998 28.944 \r\nC 106.793206 28.944 97.723031 30.380575 89.042936 33.200909 \r\nC 80.36284 36.021243 72.180518 40.190345 64.796788 45.55494 \r\nC 57.413058 50.919534 50.91953 57.413062 45.554936 64.796793 \r\nC 40.190342 72.180523 36.021241 80.362846 33.200907 89.042941 \r\nC 30.380574 97.723037 28.944 106.793212 28.944 115.920004 \r\nC 28.944 125.046796 30.380575 134.116971 33.20091 142.797066 \r\nC 36.021244 151.477162 40.190346 159.659484 45.554941 167.043214 \r\nC 50.919535 174.426944 57.413064 180.920472 64.796794 186.285065 \r\nC 72.180525 191.649659 80.362848 195.81876 89.042943 198.639093 \r\nC 97.723039 201.459427 106.793214 202.896001 115.920006 202.896 \r\nC 125.046799 202.895999 134.116973 201.459424 142.797068 198.63909 \r\nC 151.477163 195.818755 159.659486 191.649653 167.043216 186.285058 \r\nC 174.426945 180.920463 180.920473 174.426935 186.285066 167.043204 \r\nC 191.64966 159.659474 195.818761 151.47715 198.639094 142.797055 \r\nC 201.459427 134.116959 202.896001 125.046784 202.896 115.919992 \r\nL 115.92 115.92 \r\nL 142.797061 33.200908 \r\nz\r\n\" style=\"fill:#2ca02c;\"/>\r\n   </g>\r\n   <g id=\"matplotlib.axis_1\"/>\r\n   <g id=\"matplotlib.axis_2\"/>\r\n   <g id=\"text_1\">\r\n    <!-- TU -->\r\n    <defs>\r\n     <path d=\"M -0.296875 72.90625 \r\nL 61.375 72.90625 \r\nL 61.375 64.59375 \r\nL 35.5 64.59375 \r\nL 35.5 0 \r\nL 25.59375 0 \r\nL 25.59375 64.59375 \r\nL -0.296875 64.59375 \r\nz\r\n\" id=\"DejaVuSans-84\"/>\r\n     <path d=\"M 8.6875 72.90625 \r\nL 18.609375 72.90625 \r\nL 18.609375 28.609375 \r\nQ 18.609375 16.890625 22.84375 11.734375 \r\nQ 27.09375 6.59375 36.625 6.59375 \r\nQ 46.09375 6.59375 50.34375 11.734375 \r\nQ 54.59375 16.890625 54.59375 28.609375 \r\nL 54.59375 72.90625 \r\nL 64.5 72.90625 \r\nL 64.5 27.390625 \r\nQ 64.5 13.140625 57.4375 5.859375 \r\nQ 50.390625 -1.421875 36.625 -1.421875 \r\nQ 22.796875 -1.421875 15.734375 5.859375 \r\nQ 8.6875 13.140625 8.6875 27.390625 \r\nz\r\n\" id=\"DejaVuSans-85\"/>\r\n    </defs>\r\n    <g transform=\"translate(202.882303 78.792089)scale(0.1 -0.1)\">\r\n     <use xlink:href=\"#DejaVuSans-84\"/>\r\n     <use x=\"61.083984\" xlink:href=\"#DejaVuSans-85\"/>\r\n    </g>\r\n   </g>\r\n   <g id=\"text_2\">\r\n    <!-- HU -->\r\n    <defs>\r\n     <path d=\"M 9.8125 72.90625 \r\nL 19.671875 72.90625 \r\nL 19.671875 43.015625 \r\nL 55.515625 43.015625 \r\nL 55.515625 72.90625 \r\nL 65.375 72.90625 \r\nL 65.375 0 \r\nL 55.515625 0 \r\nL 55.515625 34.71875 \r\nL 19.671875 34.71875 \r\nL 19.671875 0 \r\nL 9.8125 0 \r\nz\r\n\" id=\"DejaVuSans-72\"/>\r\n    </defs>\r\n    <g transform=\"translate(162.828821 35.294723)scale(0.1 -0.1)\">\r\n     <use xlink:href=\"#DejaVuSans-72\"/>\r\n     <use x=\"75.195312\" xlink:href=\"#DejaVuSans-85\"/>\r\n    </g>\r\n   </g>\r\n   <g id=\"text_3\">\r\n    <!-- FU -->\r\n    <defs>\r\n     <path d=\"M 9.8125 72.90625 \r\nL 51.703125 72.90625 \r\nL 51.703125 64.59375 \r\nL 19.671875 64.59375 \r\nL 19.671875 43.109375 \r\nL 48.578125 43.109375 \r\nL 48.578125 34.8125 \r\nL 19.671875 34.8125 \r\nL 19.671875 0 \r\nL 9.8125 0 \r\nz\r\n\" id=\"DejaVuSans-70\"/>\r\n    </defs>\r\n    <g transform=\"translate(25.448122 174.91491)scale(0.1 -0.1)\">\r\n     <use xlink:href=\"#DejaVuSans-70\"/>\r\n     <use x=\"57.519531\" xlink:href=\"#DejaVuSans-85\"/>\r\n    </g>\r\n   </g>\r\n   <g id=\"legend_1\">\r\n    <g id=\"patch_5\">\r\n     <path d=\"M 14.2 59.234375 \r\nL 61.039063 59.234375 \r\nQ 63.039063 59.234375 63.039063 57.234375 \r\nL 63.039063 14.2 \r\nQ 63.039063 12.2 61.039063 12.2 \r\nL 14.2 12.2 \r\nQ 12.2 12.2 12.2 14.2 \r\nL 12.2 57.234375 \r\nQ 12.2 59.234375 14.2 59.234375 \r\nz\r\n\" style=\"fill:#ffffff;opacity:0.8;stroke:#cccccc;stroke-linejoin:miter;\"/>\r\n    </g>\r\n    <g id=\"patch_6\">\r\n     <path d=\"M 16.2 23.798438 \r\nL 36.2 23.798438 \r\nL 36.2 16.798438 \r\nL 16.2 16.798438 \r\nz\r\n\" style=\"fill:#1f77b4;\"/>\r\n    </g>\r\n    <g id=\"text_4\">\r\n     <!-- TU -->\r\n     <g transform=\"translate(44.2 23.798438)scale(0.1 -0.1)\">\r\n      <use xlink:href=\"#DejaVuSans-84\"/>\r\n      <use x=\"61.083984\" xlink:href=\"#DejaVuSans-85\"/>\r\n     </g>\r\n    </g>\r\n    <g id=\"patch_7\">\r\n     <path d=\"M 16.2 38.476562 \r\nL 36.2 38.476562 \r\nL 36.2 31.476562 \r\nL 16.2 31.476562 \r\nz\r\n\" style=\"fill:#ff7f0e;\"/>\r\n    </g>\r\n    <g id=\"text_5\">\r\n     <!-- HU -->\r\n     <g transform=\"translate(44.2 38.476562)scale(0.1 -0.1)\">\r\n      <use xlink:href=\"#DejaVuSans-72\"/>\r\n      <use x=\"75.195312\" xlink:href=\"#DejaVuSans-85\"/>\r\n     </g>\r\n    </g>\r\n    <g id=\"patch_8\">\r\n     <path d=\"M 16.2 53.154688 \r\nL 36.2 53.154688 \r\nL 36.2 46.154688 \r\nL 16.2 46.154688 \r\nz\r\n\" style=\"fill:#2ca02c;\"/>\r\n    </g>\r\n    <g id=\"text_6\">\r\n     <!-- FU -->\r\n     <g transform=\"translate(44.2 53.154688)scale(0.1 -0.1)\">\r\n      <use xlink:href=\"#DejaVuSans-70\"/>\r\n      <use x=\"57.519531\" xlink:href=\"#DejaVuSans-85\"/>\r\n     </g>\r\n    </g>\r\n   </g>\r\n  </g>\r\n </g>\r\n</svg>\r\n",
      "image/png": "[encoded data removed]"
     },
     "metadata": {}
    }
   ],
   "metadata": {}
  },
  {
   "cell_type": "code",
   "execution_count": 8,
   "source": [
    "print('Examples of publications without a venue: ')\r\n",
    "i_tu, i_hu, i_fu = 0, 0, 0\r\n",
    "for pub, venue in venues.items():\r\n",
    "    if venue is None:\r\n",
    "        if 'depositonce' in pub:\r\n",
    "            if i_tu < 3:\r\n",
    "                i_tu += 1\r\n",
    "                print(pub)\r\n",
    "        elif 'edoc' in pub:\r\n",
    "            if i_hu < 3:\r\n",
    "                i_hu += 1\r\n",
    "                print(pub)\r\n",
    "        elif 'refubium' in pub:\r\n",
    "            if i_fu < 3:\r\n",
    "                i_fu += 1\r\n",
    "                print(pub)\r\n",
    "        else:\r\n",
    "            raise Exception"
   ],
   "outputs": [
    {
     "output_type": "stream",
     "name": "stdout",
     "text": [
      "Examples of publications without a venue: \n",
      "oai:depositonce.tu-berlin.de:11303/11424\n",
      "oai:depositonce.tu-berlin.de:11303/4242\n",
      "oai:depositonce.tu-berlin.de:11303/6208\n",
      "oai:edoc.hu-berlin.de:18452/22922\n",
      "oai:edoc.hu-berlin.de:18452/8515\n",
      "oai:edoc.hu-berlin.de:18452/19123\n",
      "oai:refubium.fu-berlin.de:fub188/18598\n",
      "oai:refubium.fu-berlin.de:fub188/18496\n",
      "oai:refubium.fu-berlin.de:fub188/19810\n"
     ]
    }
   ],
   "metadata": {}
  },
  {
   "cell_type": "markdown",
   "source": [
    "### After the first run\r\n",
    "The first one of depositonce was published in a series (element series, qualifier name). The second one as well. The first one is a research paper, the second a book and the third a preprint.<br>\r\n",
    "The third one was published by the TU (element publisher, qualifier universityorinstitution), but the original publisher is stored in (element bibliograhicCitation, qualifier journaltitle) <br><br>\r\n",
    "The first one of edoc has the faculty of the HU as the publisher (element publisher) and the research area as (element edoc, qualifier container-title). The second and third one follow the same pattern. The first two are books and the third one is an article. <br><br>\r\n",
    "The first one of refubium has the journal in (element bibliographicCitation) as \"Al-Qanṭara. - 37 (2016), 2, S. 399-422\". The second and third ones have it in the same place and same format. All three are articles."
   ],
   "metadata": {}
  },
  {
   "cell_type": "markdown",
   "source": [
    "### After the second run\r\n",
    "The first one of depositonce has a TUB series element (element series, qualifier name). The second one as well. The third one is a preprint: it has not been published yet.<br>\r\n",
    "The first and third ones of edoc only has the HU as the publisher. The second one as well, but it also has an erstkat-ID (element edoc, qualifier container-erstkat-id).<br>\r\n",
    "The three from refubium have a series (element series, qualifer name)."
   ],
   "metadata": {}
  },
  {
   "cell_type": "markdown",
   "source": [
    "### Erstkat-ID in edoc\r\n",
    "Der Attributwert \"Erstkat-ID\" bezeichnet die Identifikationsnummer des ersterfassenden\r\n",
    "Verbundes oder der ZDB. Die Angabe im Elementinhalt setzt sich zusammen aus Verbundkürzel,\r\n",
    "Doppelpunkt und ID (https://d-nb.info/1217266461/34).\r\n"
   ],
   "metadata": {}
  },
  {
   "cell_type": "markdown",
   "source": [],
   "metadata": {}
  }
 ],
 "metadata": {
  "orig_nbformat": 4,
  "language_info": {
   "name": "python",
   "version": "3.7.6",
   "mimetype": "text/x-python",
   "codemirror_mode": {
    "name": "ipython",
    "version": 3
   },
   "pygments_lexer": "ipython3",
   "nbconvert_exporter": "python",
   "file_extension": ".py"
  },
  "kernelspec": {
   "name": "python3",
   "display_name": "Python 3.7.6 64-bit ('base': conda)"
  },
  "interpreter": {
   "hash": "afec8bd1b97d7d536c9012edeeda7c68a0e99e84af90a3d324c5b7b0f06b2586"
  }
 },
 "nbformat": 4,
 "nbformat_minor": 2
}