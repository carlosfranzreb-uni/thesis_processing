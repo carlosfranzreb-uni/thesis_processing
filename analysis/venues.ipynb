{
 "cells": [
  {
   "cell_type": "code",
   "execution_count": 1,
   "source": [
    "import json\r\n",
    "from matplotlib import pyplot as plt\r\n",
    "from collections import Counter"
   ],
   "outputs": [],
   "metadata": {}
  },
  {
   "cell_type": "code",
   "execution_count": 2,
   "source": [
    "venues = json.load(open('../data/json/dim/all/relevant_venues_v3.json'))"
   ],
   "outputs": [],
   "metadata": {}
  },
  {
   "cell_type": "code",
   "execution_count": 3,
   "source": [
    "cnt = Counter(venues.values())"
   ],
   "outputs": [],
   "metadata": {}
  },
  {
   "cell_type": "code",
   "execution_count": 4,
   "source": [
    "cnt.most_common(5)"
   ],
   "outputs": [
    {
     "output_type": "execute_result",
     "data": {
      "text/plain": [
       "[('Sonderforschungsbereich 649: Ökonomisches Risiko', 809),\n",
       " ('Sonderforschungsbereich 373: Quantification and Simulation of Economic Processes',\n",
       "  583),\n",
       " ('PLoS ONE', 533),\n",
       " ('Scientific Reports', 367),\n",
       " ('Preprints aus dem Institut für Mathematik', 314)]"
      ]
     },
     "metadata": {},
     "execution_count": 4
    }
   ],
   "metadata": {}
  },
  {
   "cell_type": "code",
   "execution_count": 5,
   "source": [
    "print(f'{cnt[None]} publications don\\'t have a venue ({round(cnt[None] / len(venues), 2)}).')"
   ],
   "outputs": [
    {
     "output_type": "stream",
     "name": "stdout",
     "text": [
      "292 publications don't have a venue (0.02).\n"
     ]
    }
   ],
   "metadata": {}
  },
  {
   "cell_type": "code",
   "execution_count": 6,
   "source": [
    "tu_total = sum(['depositonce' in pub for pub in venues])\r\n",
    "hu_total = sum(['edoc' in pub for pub in venues])\r\n",
    "fu_total = sum(['refubium' in pub for pub in venues])\r\n",
    "tu_total, hu_total, fu_total"
   ],
   "outputs": [
    {
     "output_type": "execute_result",
     "data": {
      "text/plain": [
       "(4162, 4823, 9649)"
      ]
     },
     "metadata": {},
     "execution_count": 6
    }
   ],
   "metadata": {}
  },
  {
   "cell_type": "code",
   "execution_count": 7,
   "source": [
    "tu_none, hu_none, fu_none = 0, 0, 0\r\n",
    "for pub, venue in venues.items():\r\n",
    "    if venue is None:\r\n",
    "        if 'depositonce' in pub:\r\n",
    "            tu_none += 1\r\n",
    "        elif 'edoc' in pub:\r\n",
    "            hu_none += 1\r\n",
    "        elif 'refubium' in pub:\r\n",
    "            fu_none += 1\r\n",
    "        else:\r\n",
    "            raise Exception\r\n",
    "print(f'{tu_none} out of {tu_total} ({round(tu_none/tu_total, 2)}) TU publications do not have a venue.')\r\n",
    "print(f'{hu_none} out of {hu_total} ({round(hu_none/hu_total, 2)}) HU publications do not have a venue.')\r\n",
    "print(f'{fu_none} out of {fu_total} ({round(fu_none/fu_total, 2)}) FU publications do not have a venue.')\r\n",
    "plt.pie([tu_none, hu_none, fu_none], labels=['TU', 'HU', 'FU'])\r\n",
    "plt.legend()\r\n",
    "plt.show()"
   ],
   "outputs": [
    {
     "output_type": "stream",
     "name": "stdout",
     "text": [
      "136 out of 4162 (0.03) TU publications do not have a venue.\n",
      "97 out of 4823 (0.02) HU publications do not have a venue.\n",
      "59 out of 9649 (0.01) FU publications do not have a venue.\n"
     ]
    },
    {
     "output_type": "display_data",
     "data": {
      "image/png": "[encoded data removed]",
      "text/plain": [
       "<Figure size 432x288 with 1 Axes>"
      ]
     },
     "metadata": {}
    }
   ],
   "metadata": {}
  },
  {
   "cell_type": "code",
   "execution_count": 8,
   "source": [
    "print('Examples of publications without a venue: ')\r\n",
    "i_tu, i_hu, i_fu = 0, 0, 0\r\n",
    "for pub, venue in venues.items():\r\n",
    "    if venue is None:\r\n",
    "        if 'depositonce' in pub:\r\n",
    "            if i_tu < 3:\r\n",
    "                i_tu += 1\r\n",
    "                print(pub)\r\n",
    "        elif 'edoc' in pub:\r\n",
    "            if i_hu < 3:\r\n",
    "                i_hu += 1\r\n",
    "                print(pub)\r\n",
    "        elif 'refubium' in pub:\r\n",
    "            if i_fu < 3:\r\n",
    "                i_fu += 1\r\n",
    "                print(pub)\r\n",
    "        else:\r\n",
    "            raise Exception"
   ],
   "outputs": [
    {
     "output_type": "stream",
     "name": "stdout",
     "text": [
      "Examples of publications without a venue: \n",
      "oai:depositonce.tu-berlin.de:11303/6208\n",
      "oai:depositonce.tu-berlin.de:11303/9062\n",
      "oai:depositonce.tu-berlin.de:11303/5240\n",
      "oai:edoc.hu-berlin.de:18452/22922\n",
      "oai:edoc.hu-berlin.de:18452/19123\n",
      "oai:edoc.hu-berlin.de:18452/14229\n",
      "oai:refubium.fu-berlin.de:fub188/24659\n",
      "oai:refubium.fu-berlin.de:fub188/28762\n",
      "oai:refubium.fu-berlin.de:fub188/15635\n"
     ]
    }
   ],
   "metadata": {}
  },
  {
   "cell_type": "markdown",
   "source": [
    "### After the first run\r\n",
    "The first one of depositonce was published in a series (element series, qualifier name). The second one as well. The first one is a research paper, the second a book and the third a preprint.<br>\r\n",
    "The third one was published by the TU (element publisher, qualifier universityorinstitution), but the original publisher is stored in (element bibliograhicCitation, qualifier journaltitle) <br><br>\r\n",
    "The first one of edoc has the faculty of the HU as the publisher (element publisher) and the research area as (element edoc, qualifier container-title). The second and third one follow the same pattern. The first two are books and the third one is an article. <br><br>\r\n",
    "The first one of refubium has the journal in (element bibliographicCitation) as \"Al-Qanṭara. - 37 (2016), 2, S. 399-422\". The second and third ones have it in the same place and same format. All three are articles."
   ],
   "metadata": {}
  },
  {
   "cell_type": "markdown",
   "source": [
    "### After the second run\r\n",
    "The first one of depositonce has a TUB series element (element series, qualifier name). The second one as well. The third one is a preprint: it has not been published yet.<br>\r\n",
    "The first and third ones of edoc only has the HU as the publisher. The second one as well, but it also has an erstkat-ID (element edoc, qualifier container-erstkatid).<br>\r\n",
    "The three from refubium have a series (element series, qualifer name)."
   ],
   "metadata": {}
  },
  {
   "cell_type": "markdown",
   "source": [
    "### Erstkat-ID in edoc\r\n",
    "Der Attributwert \"Erstkat-ID\" bezeichnet die Identifikationsnummer des ersterfassenden\r\n",
    "Verbundes oder der ZDB. Die Angabe im Elementinhalt setzt sich zusammen aus Verbundkürzel,\r\n",
    "Doppelpunkt und ID (https://d-nb.info/1217266461/34).\r\n"
   ],
   "metadata": {}
  },
  {
   "cell_type": "markdown",
   "source": [
    "### After the third run\r\n",
    "\r\n",
    "The first one of depositonce is a preprint and it doesn't have a venue. The second one is a report with the TU as the publisher but nothing else. The third one is a preprint without a venue.<br>\r\n",
    "The first one of edoc is an article with the HU as the publisher and nothing else. The second one is an article with a erstkat ID. The third one is an article with no venue.<br>\r\n",
    "The first of refubium is a book with no venue. The second and third one also don't have a venue."
   ],
   "metadata": {}
  },
  {
   "cell_type": "markdown",
   "source": [
    "### After the fourth run\r\n",
    "\r\n",
    "depositonce and refubium seem to be good to go. Let's look at edoc.\r\n",
    "\r\n",
    "The first and second ones of edoc are articles with the HU as the publisher and nothing else. The third one is a book also with the HU as the publisher."
   ],
   "metadata": {}
  }
 ],
 "metadata": {
  "orig_nbformat": 4,
  "language_info": {
   "name": "python",
   "version": "3.7.6",
   "mimetype": "text/x-python",
   "codemirror_mode": {
    "name": "ipython",
    "version": 3
   },
   "pygments_lexer": "ipython3",
   "nbconvert_exporter": "python",
   "file_extension": ".py"
  },
  "kernelspec": {
   "name": "python3",
   "display_name": "Python 3.7.6 64-bit ('base': conda)"
  },
  "interpreter": {
   "hash": "afec8bd1b97d7d536c9012edeeda7c68a0e99e84af90a3d324c5b7b0f06b2586"
  }
 },
 "nbformat": 4,
 "nbformat_minor": 2
}