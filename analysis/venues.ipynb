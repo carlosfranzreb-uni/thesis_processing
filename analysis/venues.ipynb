{
 "cells": [
  {
   "cell_type": "code",
   "execution_count": 8,
   "source": [
    "import json\r\n",
    "from matplotlib import pyplot as plt\r\n",
    "from collections import Counter"
   ],
   "outputs": [],
   "metadata": {}
  },
  {
   "cell_type": "code",
   "execution_count": 9,
   "source": [
    "venues = json.load(open('../data/json/dim/all/relevant_venues_v2.json'))"
   ],
   "outputs": [],
   "metadata": {}
  },
  {
   "cell_type": "code",
   "execution_count": 10,
   "source": [
    "cnt = Counter(venues.values())"
   ],
   "outputs": [],
   "metadata": {}
  },
  {
   "cell_type": "code",
   "execution_count": 11,
   "source": [
    "cnt.most_common(5)"
   ],
   "outputs": [
    {
     "output_type": "execute_result",
     "data": {
      "text/plain": [
       "[('Sonderforschungsbereich 649: Ökonomisches Risiko', 809),\n",
       " ('Sonderforschungsbereich 373: Quantification and Simulation of Economic Processes',\n",
       "  583),\n",
       " ('PLoS ONE', 533),\n",
       " ('Scientific Reports', 367),\n",
       " (None, 343)]"
      ]
     },
     "metadata": {},
     "execution_count": 11
    }
   ],
   "metadata": {}
  },
  {
   "cell_type": "code",
   "execution_count": 12,
   "source": [
    "print(f'{cnt[None]} publications don\\'t have a venue ({round(cnt[None] / len(venues), 2)}).')"
   ],
   "outputs": [
    {
     "output_type": "stream",
     "name": "stdout",
     "text": [
      "343 publications don't have a venue (0.02).\n"
     ]
    }
   ],
   "metadata": {}
  },
  {
   "cell_type": "code",
   "execution_count": 13,
   "source": [
    "tu_total = sum(['depositonce' in pub for pub in venues])\r\n",
    "hu_total = sum(['edoc' in pub for pub in venues])\r\n",
    "fu_total = sum(['refubium' in pub for pub in venues])\r\n",
    "tu_total, hu_total, fu_total"
   ],
   "outputs": [
    {
     "output_type": "execute_result",
     "data": {
      "text/plain": [
       "(4162, 4823, 9649)"
      ]
     },
     "metadata": {},
     "execution_count": 13
    }
   ],
   "metadata": {}
  },
  {
   "cell_type": "code",
   "execution_count": 14,
   "source": [
    "tu_none, hu_none, fu_none = 0, 0, 0\r\n",
    "for pub, venue in venues.items():\r\n",
    "    if venue is None:\r\n",
    "        if 'depositonce' in pub:\r\n",
    "            tu_none += 1\r\n",
    "        elif 'edoc' in pub:\r\n",
    "            hu_none += 1\r\n",
    "        elif 'refubium' in pub:\r\n",
    "            fu_none += 1\r\n",
    "        else:\r\n",
    "            raise Exception\r\n",
    "print(f'{tu_none} out of {tu_total} ({round(tu_none/tu_total, 2)}) TU publications do not have a venue.')\r\n",
    "print(f'{hu_none} out of {hu_total} ({round(hu_none/hu_total, 2)}) HU publications do not have a venue.')\r\n",
    "print(f'{fu_none} out of {fu_total} ({round(fu_none/fu_total, 2)}) FU publications do not have a venue.')\r\n",
    "plt.pie([tu_none, hu_none, fu_none], labels=['TU', 'HU', 'FU'])\r\n",
    "plt.legend()\r\n",
    "plt.show()"
   ],
   "outputs": [
    {
     "output_type": "stream",
     "name": "stdout",
     "text": [
      "136 out of 4162 (0.03) TU publications do not have a venue.\n",
      "148 out of 4823 (0.03) HU publications do not have a venue.\n",
      "59 out of 9649 (0.01) FU publications do not have a venue.\n"
     ]
    },
    {
     "output_type": "display_data",
     "data": {
      "text/plain": [
       "<Figure size 432x288 with 1 Axes>"
      ],
      "image/svg+xml": "<?xml version=\"1.0\" encoding=\"utf-8\" standalone=\"no\"?>\r\n<!DOCTYPE svg PUBLIC \"-//W3C//DTD SVG 1.1//EN\"\r\n  \"http://www.w3.org/Graphics/SVG/1.1/DTD/svg11.dtd\">\r\n<!-- Created with matplotlib (https://matplotlib.org/) -->\r\n<svg height=\"231.84pt\" version=\"1.1\" viewBox=\"0 0 231.84 231.84\" width=\"231.84pt\" xmlns=\"http://www.w3.org/2000/svg\" xmlns:xlink=\"http://www.w3.org/1999/xlink\">\r\n <defs>\r\n  <style type=\"text/css\">\r\n*{stroke-linecap:butt;stroke-linejoin:round;}\r\n  </style>\r\n </defs>\r\n <g id=\"figure_1\">\r\n  <g id=\"patch_1\">\r\n   <path d=\"M 0 231.84 \r\nL 231.84 231.84 \r\nL 231.84 0 \r\nL 0 0 \r\nz\r\n\" style=\"fill:none;\"/>\r\n  </g>\r\n  <g id=\"axes_1\">\r\n   <g id=\"patch_2\">\r\n    <path d=\"M 202.896 115.92 \r\nC 202.896 97.718489 197.182441 79.968154 186.564946 65.184252 \r\nC 175.947451 50.400349 160.952388 39.315799 143.704587 33.501305 \r\nC 126.456786 27.686811 107.811317 27.430629 90.410279 32.769061 \r\nC 73.00924 38.107493 57.7153 48.775883 46.695639 63.262499 \r\nL 115.92 115.92 \r\nL 202.896 115.92 \r\nz\r\n\" style=\"fill:#1f77b4;\"/>\r\n   </g>\r\n   <g id=\"patch_3\">\r\n    <path d=\"M 46.695639 63.262499 \r\nC 34.686295 79.050167 28.431852 98.480865 28.976832 118.309577 \r\nC 29.521811 138.138289 36.834086 157.196115 49.692473 172.300309 \r\nC 62.55086 187.404504 80.197359 197.664678 99.684923 201.367334 \r\nC 119.172487 205.06999 139.352327 201.996858 156.854317 192.661164 \r\nL 115.92 115.92 \r\nL 46.695639 63.262499 \r\nz\r\n\" style=\"fill:#ff7f0e;\"/>\r\n   </g>\r\n   <g id=\"patch_4\">\r\n    <path d=\"M 156.854317 192.661164 \r\nC 170.761258 185.243097 182.393665 174.1824 190.502595 160.666632 \r\nC 198.611526 147.150863 202.895999 131.681694 202.896 115.920008 \r\nL 115.92 115.92 \r\nL 156.854317 192.661164 \r\nz\r\n\" style=\"fill:#2ca02c;\"/>\r\n   </g>\r\n   <g id=\"matplotlib.axis_1\"/>\r\n   <g id=\"matplotlib.axis_2\"/>\r\n   <g id=\"text_1\">\r\n    <!-- TU -->\r\n    <defs>\r\n     <path d=\"M -0.296875 72.90625 \r\nL 61.375 72.90625 \r\nL 61.375 64.59375 \r\nL 35.5 64.59375 \r\nL 35.5 0 \r\nL 25.59375 0 \r\nL 25.59375 64.59375 \r\nL -0.296875 64.59375 \r\nz\r\n\" id=\"DejaVuSans-84\"/>\r\n     <path d=\"M 8.6875 72.90625 \r\nL 18.609375 72.90625 \r\nL 18.609375 28.609375 \r\nQ 18.609375 16.890625 22.84375 11.734375 \r\nQ 27.09375 6.59375 36.625 6.59375 \r\nQ 46.09375 6.59375 50.34375 11.734375 \r\nQ 54.59375 16.890625 54.59375 28.609375 \r\nL 54.59375 72.90625 \r\nL 64.5 72.90625 \r\nL 64.5 27.390625 \r\nQ 64.5 13.140625 57.4375 5.859375 \r\nQ 50.390625 -1.421875 36.625 -1.421875 \r\nQ 22.796875 -1.421875 15.734375 5.859375 \r\nQ 8.6875 13.140625 8.6875 27.390625 \r\nz\r\n\" id=\"DejaVuSans-85\"/>\r\n    </defs>\r\n    <g transform=\"translate(146.483046 28.01881)scale(0.1 -0.1)\">\r\n     <use xlink:href=\"#DejaVuSans-84\"/>\r\n     <use x=\"61.083984\" xlink:href=\"#DejaVuSans-85\"/>\r\n    </g>\r\n   </g>\r\n   <g id=\"text_2\">\r\n    <!-- HU -->\r\n    <defs>\r\n     <path d=\"M 9.8125 72.90625 \r\nL 19.671875 72.90625 \r\nL 19.671875 43.015625 \r\nL 55.515625 43.015625 \r\nL 55.515625 72.90625 \r\nL 65.375 72.90625 \r\nL 65.375 0 \r\nL 55.515625 0 \r\nL 55.515625 34.71875 \r\nL 19.671875 34.71875 \r\nL 19.671875 0 \r\nL 9.8125 0 \r\nz\r\n\" id=\"DejaVuSans-72\"/>\r\n    </defs>\r\n    <g transform=\"translate(28.230658 180.697715)scale(0.1 -0.1)\">\r\n     <use xlink:href=\"#DejaVuSans-72\"/>\r\n     <use x=\"75.195312\" xlink:href=\"#DejaVuSans-85\"/>\r\n    </g>\r\n   </g>\r\n   <g id=\"text_3\">\r\n    <!-- FU -->\r\n    <defs>\r\n     <path d=\"M 9.8125 72.90625 \r\nL 51.703125 72.90625 \r\nL 51.703125 64.59375 \r\nL 19.671875 64.59375 \r\nL 19.671875 43.109375 \r\nL 48.578125 43.109375 \r\nL 48.578125 34.8125 \r\nL 19.671875 34.8125 \r\nL 19.671875 0 \r\nL 9.8125 0 \r\nz\r\n\" id=\"DejaVuSans-70\"/>\r\n    </defs>\r\n    <g transform=\"translate(197.960855 167.90067)scale(0.1 -0.1)\">\r\n     <use xlink:href=\"#DejaVuSans-70\"/>\r\n     <use x=\"57.519531\" xlink:href=\"#DejaVuSans-85\"/>\r\n    </g>\r\n   </g>\r\n   <g id=\"legend_1\">\r\n    <g id=\"patch_5\">\r\n     <path d=\"M 170.800938 59.234375 \r\nL 217.64 59.234375 \r\nQ 219.64 59.234375 219.64 57.234375 \r\nL 219.64 14.2 \r\nQ 219.64 12.2 217.64 12.2 \r\nL 170.800938 12.2 \r\nQ 168.800938 12.2 168.800938 14.2 \r\nL 168.800938 57.234375 \r\nQ 168.800938 59.234375 170.800938 59.234375 \r\nz\r\n\" style=\"fill:#ffffff;opacity:0.8;stroke:#cccccc;stroke-linejoin:miter;\"/>\r\n    </g>\r\n    <g id=\"patch_6\">\r\n     <path d=\"M 172.800938 23.798438 \r\nL 192.800938 23.798438 \r\nL 192.800938 16.798438 \r\nL 172.800938 16.798438 \r\nz\r\n\" style=\"fill:#1f77b4;\"/>\r\n    </g>\r\n    <g id=\"text_4\">\r\n     <!-- TU -->\r\n     <g transform=\"translate(200.800938 23.798438)scale(0.1 -0.1)\">\r\n      <use xlink:href=\"#DejaVuSans-84\"/>\r\n      <use x=\"61.083984\" xlink:href=\"#DejaVuSans-85\"/>\r\n     </g>\r\n    </g>\r\n    <g id=\"patch_7\">\r\n     <path d=\"M 172.800938 38.476562 \r\nL 192.800938 38.476562 \r\nL 192.800938 31.476562 \r\nL 172.800938 31.476562 \r\nz\r\n\" style=\"fill:#ff7f0e;\"/>\r\n    </g>\r\n    <g id=\"text_5\">\r\n     <!-- HU -->\r\n     <g transform=\"translate(200.800938 38.476562)scale(0.1 -0.1)\">\r\n      <use xlink:href=\"#DejaVuSans-72\"/>\r\n      <use x=\"75.195312\" xlink:href=\"#DejaVuSans-85\"/>\r\n     </g>\r\n    </g>\r\n    <g id=\"patch_8\">\r\n     <path d=\"M 172.800938 53.154688 \r\nL 192.800938 53.154688 \r\nL 192.800938 46.154688 \r\nL 172.800938 46.154688 \r\nz\r\n\" style=\"fill:#2ca02c;\"/>\r\n    </g>\r\n    <g id=\"text_6\">\r\n     <!-- FU -->\r\n     <g transform=\"translate(200.800938 53.154688)scale(0.1 -0.1)\">\r\n      <use xlink:href=\"#DejaVuSans-70\"/>\r\n      <use x=\"57.519531\" xlink:href=\"#DejaVuSans-85\"/>\r\n     </g>\r\n    </g>\r\n   </g>\r\n  </g>\r\n </g>\r\n</svg>\r\n",
      "image/png": "[encoded data removed]"
     },
     "metadata": {}
    }
   ],
   "metadata": {}
  },
  {
   "cell_type": "code",
   "execution_count": 15,
   "source": [
    "print('Examples of publications without a venue: ')\r\n",
    "i_tu, i_hu, i_fu = 0, 0, 0\r\n",
    "for pub, venue in venues.items():\r\n",
    "    if venue is None:\r\n",
    "        if 'depositonce' in pub:\r\n",
    "            if i_tu < 3:\r\n",
    "                i_tu += 1\r\n",
    "                print(pub)\r\n",
    "        elif 'edoc' in pub:\r\n",
    "            if i_hu < 3:\r\n",
    "                i_hu += 1\r\n",
    "                print(pub)\r\n",
    "        elif 'refubium' in pub:\r\n",
    "            if i_fu < 3:\r\n",
    "                i_fu += 1\r\n",
    "                print(pub)\r\n",
    "        else:\r\n",
    "            raise Exception"
   ],
   "outputs": [
    {
     "output_type": "stream",
     "name": "stdout",
     "text": [
      "Examples of publications without a venue: \n",
      "oai:depositonce.tu-berlin.de:11303/6208\n",
      "oai:depositonce.tu-berlin.de:11303/9062\n",
      "oai:depositonce.tu-berlin.de:11303/5240\n",
      "oai:edoc.hu-berlin.de:18452/22922\n",
      "oai:edoc.hu-berlin.de:18452/8515\n",
      "oai:edoc.hu-berlin.de:18452/19123\n",
      "oai:refubium.fu-berlin.de:fub188/24659\n",
      "oai:refubium.fu-berlin.de:fub188/28762\n",
      "oai:refubium.fu-berlin.de:fub188/15635\n"
     ]
    }
   ],
   "metadata": {}
  },
  {
   "cell_type": "markdown",
   "source": [
    "### After the first run\r\n",
    "The first one of depositonce was published in a series (element series, qualifier name). The second one as well. The first one is a research paper, the second a book and the third a preprint.<br>\r\n",
    "The third one was published by the TU (element publisher, qualifier universityorinstitution), but the original publisher is stored in (element bibliograhicCitation, qualifier journaltitle) <br><br>\r\n",
    "The first one of edoc has the faculty of the HU as the publisher (element publisher) and the research area as (element edoc, qualifier container-title). The second and third one follow the same pattern. The first two are books and the third one is an article. <br><br>\r\n",
    "The first one of refubium has the journal in (element bibliographicCitation) as \"Al-Qanṭara. - 37 (2016), 2, S. 399-422\". The second and third ones have it in the same place and same format. All three are articles."
   ],
   "metadata": {}
  },
  {
   "cell_type": "markdown",
   "source": [
    "### After the second run\r\n",
    "The first one of depositonce has a TUB series element (element series, qualifier name). The second one as well. The third one is a preprint: it has not been published yet.<br>\r\n",
    "The first and third ones of edoc only has the HU as the publisher. The second one as well, but it also has an erstkat-ID (element edoc, qualifier container-erstkatid).<br>\r\n",
    "The three from refubium have a series (element series, qualifer name)."
   ],
   "metadata": {}
  },
  {
   "cell_type": "markdown",
   "source": [
    "### Erstkat-ID in edoc\r\n",
    "Der Attributwert \"Erstkat-ID\" bezeichnet die Identifikationsnummer des ersterfassenden\r\n",
    "Verbundes oder der ZDB. Die Angabe im Elementinhalt setzt sich zusammen aus Verbundkürzel,\r\n",
    "Doppelpunkt und ID (https://d-nb.info/1217266461/34).\r\n"
   ],
   "metadata": {}
  },
  {
   "cell_type": "markdown",
   "source": [
    "### After the third run\r\n",
    "\r\n",
    "The first one of depositonce is a preprint and it doesn't have a venue. The second one is a report with the TU as the publisher but nothing else. The third one is a preprint without a venue.<br>\r\n",
    "The first one of edoc is an article with the HU as the publisher and nothing else. The second one is an article with a erstkat ID. The third one is an article with no venue.<br>\r\n",
    "The first of refubium is a book with no venue. The second and third one also don't have a venue."
   ],
   "metadata": {}
  },
  {
   "cell_type": "markdown",
   "source": [],
   "metadata": {}
  }
 ],
 "metadata": {
  "orig_nbformat": 4,
  "language_info": {
   "name": "python",
   "version": "3.7.6",
   "mimetype": "text/x-python",
   "codemirror_mode": {
    "name": "ipython",
    "version": 3
   },
   "pygments_lexer": "ipython3",
   "nbconvert_exporter": "python",
   "file_extension": ".py"
  },
  "kernelspec": {
   "name": "python3",
   "display_name": "Python 3.7.6 64-bit ('base': conda)"
  },
  "interpreter": {
   "hash": "afec8bd1b97d7d536c9012edeeda7c68a0e99e84af90a3d324c5b7b0f06b2586"
  }
 },
 "nbformat": 4,
 "nbformat_minor": 2
}