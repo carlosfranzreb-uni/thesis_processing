{
 "cells": [
  {
   "cell_type": "code",
   "execution_count": 1,
   "source": [
    "import json\r\n",
    "from matplotlib import pyplot as plt\r\n",
    "from collections import Counter"
   ],
   "outputs": [],
   "metadata": {}
  },
  {
   "cell_type": "code",
   "execution_count": 2,
   "source": [
    "venues = json.load(open('../data/json/dim/all/relevant_venues_v1.json'))"
   ],
   "outputs": [],
   "metadata": {}
  },
  {
   "cell_type": "code",
   "execution_count": 3,
   "source": [
    "cnt = Counter(venues.values())"
   ],
   "outputs": [],
   "metadata": {}
  },
  {
   "cell_type": "code",
   "execution_count": 4,
   "source": [
    "cnt.most_common(5)"
   ],
   "outputs": [
    {
     "output_type": "execute_result",
     "data": {
      "text/plain": [
       "[('Sonderforschungsbereich 649: Ökonomisches Risiko', 809),\n",
       " ('Sonderforschungsbereich 373: Quantification and Simulation of Economic Processes',\n",
       "  583),\n",
       " ('Preprints aus dem Institut für Mathematik', 314),\n",
       " ('Stochastic Programming E-Print Series', 240),\n",
       " (None, 148)]"
      ]
     },
     "metadata": {},
     "execution_count": 4
    }
   ],
   "metadata": {}
  },
  {
   "cell_type": "code",
   "execution_count": 5,
   "source": [
    "print(f'{cnt[None]} publications don\\'t have a venue ({round(cnt[None] / len(venues), 2)}).')"
   ],
   "outputs": [
    {
     "output_type": "stream",
     "name": "stdout",
     "text": [
      "148 publications don't have a venue (0.03).\n"
     ]
    }
   ],
   "metadata": {}
  },
  {
   "cell_type": "code",
   "execution_count": 8,
   "source": [
    "tu_total = sum(['depositonce' in pub for pub in venues])\r\n",
    "hu_total = sum(['edoc' in pub for pub in venues])\r\n",
    "fu_total = sum(['refubium' in pub for pub in venues])\r\n",
    "tu_total, hu_total, fu_total"
   ],
   "outputs": [
    {
     "output_type": "execute_result",
     "data": {
      "text/plain": [
       "(0, 4823, 0)"
      ]
     },
     "metadata": {},
     "execution_count": 8
    }
   ],
   "metadata": {}
  },
  {
   "cell_type": "code",
   "execution_count": 7,
   "source": [
    "tu_none, hu_none, fu_none = 0, 0, 0\r\n",
    "for pub, venue in venues.items():\r\n",
    "    if venue is None:\r\n",
    "        if 'depositonce' in pub:\r\n",
    "            tu_none += 1\r\n",
    "        elif 'edoc' in pub:\r\n",
    "            hu_none += 1\r\n",
    "        elif 'refubium' in pub:\r\n",
    "            fu_none += 1\r\n",
    "        else:\r\n",
    "            raise Exception\r\n",
    "print(f'{tu_none} out of {tu_total} ({round(tu_none/tu_total, 2)}) TU publications do not have a venue.')\r\n",
    "print(f'{hu_none} out of {hu_total} ({round(hu_none/hu_total, 2)}) HU publications do not have a venue.')\r\n",
    "print(f'{fu_none} out of {fu_total} ({round(fu_none/fu_total, 2)}) FU publications do not have a venue.')\r\n",
    "plt.pie([tu_none, hu_none, fu_none], labels=['TU', 'HU', 'FU'])\r\n",
    "plt.legend()\r\n",
    "plt.show()"
   ],
   "outputs": [
    {
     "output_type": "error",
     "ename": "ZeroDivisionError",
     "evalue": "division by zero",
     "traceback": [
      "\u001b[1;31m---------------------------------------------------------------------------\u001b[0m",
      "\u001b[1;31mZeroDivisionError\u001b[0m                         Traceback (most recent call last)",
      "\u001b[1;32m<ipython-input-7-086fa686f95e>\u001b[0m in \u001b[0;36m<module>\u001b[1;34m\u001b[0m\n\u001b[0;32m     10\u001b[0m         \u001b[1;32melse\u001b[0m\u001b[1;33m:\u001b[0m\u001b[1;33m\u001b[0m\u001b[1;33m\u001b[0m\u001b[0m\n\u001b[0;32m     11\u001b[0m             \u001b[1;32mraise\u001b[0m \u001b[0mException\u001b[0m\u001b[1;33m\u001b[0m\u001b[1;33m\u001b[0m\u001b[0m\n\u001b[1;32m---> 12\u001b[1;33m \u001b[0mprint\u001b[0m\u001b[1;33m(\u001b[0m\u001b[1;34mf'{tu_none} out of {tu_total} ({round(tu_none/tu_total, 2)}) TU publications do not have a venue.'\u001b[0m\u001b[1;33m)\u001b[0m\u001b[1;33m\u001b[0m\u001b[1;33m\u001b[0m\u001b[0m\n\u001b[0m\u001b[0;32m     13\u001b[0m \u001b[0mprint\u001b[0m\u001b[1;33m(\u001b[0m\u001b[1;34mf'{hu_none} out of {hu_total} ({round(hu_none/hu_total, 2)}) HU publications do not have a venue.'\u001b[0m\u001b[1;33m)\u001b[0m\u001b[1;33m\u001b[0m\u001b[1;33m\u001b[0m\u001b[0m\n\u001b[0;32m     14\u001b[0m \u001b[0mprint\u001b[0m\u001b[1;33m(\u001b[0m\u001b[1;34mf'{fu_none} out of {fu_total} ({round(fu_none/fu_total, 2)}) FU publications do not have a venue.'\u001b[0m\u001b[1;33m)\u001b[0m\u001b[1;33m\u001b[0m\u001b[1;33m\u001b[0m\u001b[0m\n",
      "\u001b[1;31mZeroDivisionError\u001b[0m: division by zero"
     ]
    }
   ],
   "metadata": {}
  },
  {
   "cell_type": "code",
   "execution_count": null,
   "source": [
    "print('Examples of publications without a venue: ')\r\n",
    "i_tu, i_hu, i_fu = 0, 0, 0\r\n",
    "for pub, venue in venues.items():\r\n",
    "    if venue is None:\r\n",
    "        if 'depositonce' in pub:\r\n",
    "            if i_tu < 3:\r\n",
    "                i_tu += 1\r\n",
    "                print(pub)\r\n",
    "        elif 'edoc' in pub:\r\n",
    "            if i_hu < 3:\r\n",
    "                i_hu += 1\r\n",
    "                print(pub)\r\n",
    "        elif 'refubium' in pub:\r\n",
    "            if i_fu < 3:\r\n",
    "                i_fu += 1\r\n",
    "                print(pub)\r\n",
    "        else:\r\n",
    "            raise Exception"
   ],
   "outputs": [
    {
     "output_type": "stream",
     "name": "stdout",
     "text": [
      "Examples of publications without a venue: \n",
      "oai:depositonce.tu-berlin.de:11303/11424\n",
      "oai:depositonce.tu-berlin.de:11303/4242\n",
      "oai:depositonce.tu-berlin.de:11303/6208\n",
      "oai:edoc.hu-berlin.de:18452/5268\n",
      "oai:edoc.hu-berlin.de:18452/3338\n",
      "oai:edoc.hu-berlin.de:18452/21802\n",
      "oai:refubium.fu-berlin.de:fub188/21362\n",
      "oai:refubium.fu-berlin.de:fub188/16574\n",
      "oai:refubium.fu-berlin.de:fub188/15258\n"
     ]
    }
   ],
   "metadata": {}
  },
  {
   "cell_type": "markdown",
   "source": [
    "The first one of depositonce was published in a series (element series, qualifier name). The second one as well. The first one is a research paper, the second a book and the third a preprint.<br>\r\n",
    "The third one was published by the TU (element publisher, qualifier universityorinstitution), but the original publisher is stored in (element bibliograhicCitation, qualifier journaltitle) <br><br>\r\n",
    "The first one of edoc has the faculty of the HU as the publisher (element publisher) and the research area as (element edoc, qualifier container-title). The second and third one follow the same pattern. The first two are books and the third one is an article. <br><br>\r\n",
    "The first one of refubium has the journal in (element bibliographicCitation) as \"Al-Qanṭara. - 37 (2016), 2, S. 399-422\". The second and third ones have it in the same place and same format. All three are articles."
   ],
   "metadata": {}
  },
  {
   "cell_type": "markdown",
   "source": [],
   "metadata": {}
  }
 ],
 "metadata": {
  "orig_nbformat": 4,
  "language_info": {
   "name": "python",
   "version": "3.7.6",
   "mimetype": "text/x-python",
   "codemirror_mode": {
    "name": "ipython",
    "version": 3
   },
   "pygments_lexer": "ipython3",
   "nbconvert_exporter": "python",
   "file_extension": ".py"
  },
  "kernelspec": {
   "name": "python3",
   "display_name": "Python 3.7.6 64-bit ('base': conda)"
  },
  "interpreter": {
   "hash": "afec8bd1b97d7d536c9012edeeda7c68a0e99e84af90a3d324c5b7b0f06b2586"
  }
 },
 "nbformat": 4,
 "nbformat_minor": 2
}