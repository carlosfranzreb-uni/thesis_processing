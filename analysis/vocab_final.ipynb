{
 "cells": [
  {
   "cell_type": "code",
   "execution_count": 5,
   "metadata": {},
   "outputs": [],
   "source": [
    "import json\n",
    "from matplotlib import pyplot as plt\n",
    "import re"
   ]
  },
  {
   "cell_type": "code",
   "execution_count": 2,
   "metadata": {},
   "outputs": [],
   "source": [
    "vocab = json.load(open('../data/vocab/vocab.json'))"
   ]
  },
  {
   "cell_type": "code",
   "execution_count": 8,
   "metadata": {},
   "outputs": [
    {
     "name": "stdout",
     "output_type": "stream",
     "text": [
      "’\n",
      "®\n",
      "−\n",
      "°\n",
      "–\n",
      "''\n",
      "“\n",
      "”\n",
      "—\n",
      "‘\n",
      "≈\n",
      "δ\n",
      "≤\n",
      "×\n",
      "±\n",
      "•\n",
      "--\n",
      "π\n",
      "ε\n",
      "å\n",
      "…\n",
      "€\n",
      "):\n",
      "„\n",
      "σ\n",
      "β\n",
      "---\n",
      "·\n",
      "̶\n",
      "/-\n",
      "α\n",
      "‐\n",
      "ß\n",
      "→\n",
      "≥\n",
      "∘\n",
      "´\n",
      "μ\n",
      "à\n",
      "«\n",
      "»\n",
      "™\n",
      "θ′\n",
      "γ\n",
      "〈\n",
      "〉\n",
      "‚\n",
      "α-\n",
      "∼\n",
      "’’\n",
      "α-/β\n",
      "←\n",
      "∈\n",
      "η\n",
      "-/-\n",
      "(=\n",
      "τ\n",
      "̇\n",
      "π-\n",
      ":]\n",
      "ω\n",
      "ππ\n",
      "λ\n",
      "ζ\n",
      "\\\\\n",
      "µ\n",
      "ξ\n",
      "ψ\n",
      "©\n",
      "β-\n",
      "◦\n",
      "ρ\n",
      "−/−\n",
      "χ\n",
      "ν\n",
      "∇\n",
      "£\n",
      "½\n",
      "⊂\n",
      "ó\n",
      "γ-\n",
      "↔\n",
      "¡\n",
      "κ\n",
      "§\n",
      "∕\n",
      "ø\n",
      "σ′\n",
      "ˆ\n",
      "∞\n",
      "∙\n",
      "─\n",
      "//\n",
      "φ\n",
      "√\n",
      "θ\n",
      "∝\n",
      "≲\n",
      "‒\n",
      "⩾\n",
      "β′\n",
      "γ+\n",
      "\\-\n",
      "/−\n",
      "‰\n",
      ";)\n",
      "γδ\n",
      "ϵ\n",
      "ɛ\n",
      "[=\n",
      "110\n"
     ]
    }
   ],
   "source": [
    "cnt = 0\n",
    "for entry in vocab:\n",
    "  if re.search('[a-zA-Z0-9]', entry) is None:\n",
    "    print(entry)\n",
    "    cnt += 1\n",
    "print(cnt)"
   ]
  },
  {
   "cell_type": "code",
   "execution_count": 83,
   "metadata": {},
   "outputs": [
    {
     "data": {
      "text/plain": [
       "50139"
      ]
     },
     "execution_count": 83,
     "metadata": {},
     "output_type": "execute_result"
    }
   ],
   "source": [
    "len(vocab)"
   ]
  },
  {
   "cell_type": "code",
   "execution_count": 84,
   "metadata": {},
   "outputs": [
    {
     "data": {
      "text/plain": [
       "47.60218592313369"
      ]
     },
     "execution_count": 84,
     "metadata": {},
     "output_type": "execute_result"
    }
   ],
   "source": [
    "avg_freq = sum(vocab.values()) / len(vocab)\n",
    "avg_freq"
   ]
  },
  {
   "cell_type": "code",
   "execution_count": 85,
   "metadata": {},
   "outputs": [
    {
     "data": {
      "text/plain": [
       "(15250, 0.3041544506272562)"
      ]
     },
     "execution_count": 85,
     "metadata": {},
     "output_type": "execute_result"
    }
   ],
   "source": [
    "appear_twice = sum([val == 2 for val in vocab.values()])\n",
    "appear_twice_pctg = appear_twice / len(vocab)\n",
    "appear_twice, appear_twice_pctg"
   ]
  },
  {
   "cell_type": "code",
   "execution_count": 86,
   "metadata": {},
   "outputs": [
    {
     "data": {
      "text/plain": [
       "([46776, 1252, 558, 343, 206, 163, 126, 93, 74, 61],\n",
       " [0.9329264644288877,\n",
       "  0.02497058178264425,\n",
       "  0.011129061209836654,\n",
       "  0.0068409820698458286,\n",
       "  0.004108578152735395,\n",
       "  0.0032509623247372306,\n",
       "  0.0025130138215760187,\n",
       "  0.0018548435349727756,\n",
       "  0.0014758970063224236,\n",
       "  0.0012166178025090249],\n",
       " False)"
      ]
     },
     "execution_count": 86,
     "metadata": {},
     "output_type": "execute_result"
    }
   ],
   "source": [
    "bins = []\n",
    "for top in range(100, 1001, 100):\n",
    "  bin = range(top - 99, top+1)\n",
    "  bins.append(sum([val in bin for val in vocab.values()]))\n",
    "bins, [b/len(vocab) for b in bins], sum(bins) == len(vocab)\n"
   ]
  },
  {
   "cell_type": "code",
   "execution_count": 87,
   "metadata": {},
   "outputs": [
    {
     "data": {
      "image/png": "[encoded data removed]",
      "text/plain": [
       "<Figure size 432x288 with 1 Axes>"
      ]
     },
     "metadata": {
      "needs_background": "light"
     },
     "output_type": "display_data"
    }
   ],
   "source": [
    "plt.bar(range(len(bins)), bins)\n",
    "plt.xlabel('No. of documents where the entry appears (as bins)')\n",
    "plt.ylabel('No. of words in the bin (log. scale).')\n",
    "plt.xticks(range(len(bins)), [f'({top - 99} - {top})' for top in range(100, 1001, 100)], rotation=45)\n",
    "plt.yscale('log')"
   ]
  },
  {
   "cell_type": "code",
   "execution_count": null,
   "metadata": {},
   "outputs": [],
   "source": []
  }
 ],
 "metadata": {
  "interpreter": {
   "hash": "afec8bd1b97d7d536c9012edeeda7c68a0e99e84af90a3d324c5b7b0f06b2586"
  },
  "kernelspec": {
   "display_name": "Python 3.7.6 64-bit ('base': conda)",
   "language": "python",
   "name": "python3"
  },
  "language_info": {
   "codemirror_mode": {
    "name": "ipython",
    "version": 3
   },
   "file_extension": ".py",
   "mimetype": "text/x-python",
   "name": "python",
   "nbconvert_exporter": "python",
   "pygments_lexer": "ipython3",
   "version": "3.7.6"
  },
  "orig_nbformat": 4
 },
 "nbformat": 4,
 "nbformat_minor": 2
}
