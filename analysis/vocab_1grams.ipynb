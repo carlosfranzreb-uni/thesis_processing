{
 "cells": [
  {
   "cell_type": "code",
   "execution_count": 1,
   "metadata": {},
   "outputs": [],
   "source": [
    "import json\n",
    "from matplotlib import pyplot as plt"
   ]
  },
  {
   "cell_type": "code",
   "execution_count": 2,
   "metadata": {},
   "outputs": [],
   "source": [
    "vocab = json.load(open('../data/vocab/repo_vocab_1grams.json'))"
   ]
  },
  {
   "cell_type": "code",
   "execution_count": 3,
   "metadata": {},
   "outputs": [
    {
     "data": {
      "text/plain": [
       "27.10678536182554"
      ]
     },
     "execution_count": 3,
     "metadata": {},
     "output_type": "execute_result"
    }
   ],
   "source": [
    "avg_freq = sum(vocab.values()) / len(vocab)\n",
    "avg_freq"
   ]
  },
  {
   "cell_type": "code",
   "execution_count": 4,
   "metadata": {},
   "outputs": [
    {
     "data": {
      "text/plain": [
       "(15250, 0.30714386417192)"
      ]
     },
     "execution_count": 4,
     "metadata": {},
     "output_type": "execute_result"
    }
   ],
   "source": [
    "appear_twice = sum([val == 2 for val in vocab.values()])\n",
    "appear_twice_pctg = appear_twice / len(vocab)\n",
    "appear_twice, appear_twice_pctg"
   ]
  },
  {
   "cell_type": "code",
   "execution_count": 5,
   "metadata": {},
   "outputs": [
    {
     "data": {
      "text/plain": [
       "([46776, 1252, 558, 343, 206, 163, 126, 93, 74, 60],\n",
       " [0.9420958288856216,\n",
       "  0.025216007733983203,\n",
       "  0.011238444341503695,\n",
       "  0.006908219371211053,\n",
       "  0.004148959738978067,\n",
       "  0.0032829147449195384,\n",
       "  0.0025377132384040604,\n",
       "  0.0018730740569172827,\n",
       "  0.001490403013030956,\n",
       "  0.001208434875430505],\n",
       " True)"
      ]
     },
     "execution_count": 5,
     "metadata": {},
     "output_type": "execute_result"
    }
   ],
   "source": [
    "bins = []\n",
    "for top in range(100, 1001, 100):\n",
    "  bin = range(top - 99, top+1)\n",
    "  bins.append(sum([val in bin for val in vocab.values()]))\n",
    "bins, [b/len(vocab) for b in bins], sum(bins) == len(vocab)\n"
   ]
  },
  {
   "cell_type": "code",
   "execution_count": 6,
   "metadata": {},
   "outputs": [
    {
     "data": {
      "image/png": "[encoded data removed]",
      "text/plain": [
       "<Figure size 432x288 with 1 Axes>"
      ]
     },
     "metadata": {
      "needs_background": "light"
     },
     "output_type": "display_data"
    }
   ],
   "source": [
    "plt.bar(range(len(bins)), bins)\n",
    "plt.xlabel('No. of documents where the entry appears (as bins)')\n",
    "plt.ylabel('No. of words in the bin (log. scale).')\n",
    "plt.xticks(range(len(bins)), [f'({top - 99} - {top})' for top in range(100, 1001, 100)], rotation=45)\n",
    "plt.yscale('log')"
   ]
  },
  {
   "cell_type": "code",
   "execution_count": null,
   "metadata": {},
   "outputs": [],
   "source": []
  }
 ],
 "metadata": {
  "interpreter": {
   "hash": "afec8bd1b97d7d536c9012edeeda7c68a0e99e84af90a3d324c5b7b0f06b2586"
  },
  "kernelspec": {
   "display_name": "Python 3.7.6 64-bit ('base': conda)",
   "language": "python",
   "name": "python3"
  },
  "language_info": {
   "codemirror_mode": {
    "name": "ipython",
    "version": 3
   },
   "file_extension": ".py",
   "mimetype": "text/x-python",
   "name": "python",
   "nbconvert_exporter": "python",
   "pygments_lexer": "ipython3",
   "version": "3.7.6"
  },
  "orig_nbformat": 4
 },
 "nbformat": 4,
 "nbformat_minor": 2
}
