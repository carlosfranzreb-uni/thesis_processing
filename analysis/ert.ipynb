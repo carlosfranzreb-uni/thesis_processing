{
 "cells": [
  {
   "cell_type": "markdown",
   "source": [
    "Here we look at the ERTs created for the venues, referees and advisors."
   ],
   "metadata": {}
  },
  {
   "cell_type": "code",
   "execution_count": 1,
   "source": [
    "import json\r\n",
    "from matplotlib import pyplot as plt\r\n",
    "import matplotlib\r\n",
    "from collections import Counter\r\n",
    "import numpy as np\r\n",
    "import re"
   ],
   "outputs": [],
   "metadata": {}
  },
  {
   "cell_type": "code",
   "execution_count": 2,
   "source": [
    "font = {'weight': 'normal', 'size': 20}\r\n",
    "matplotlib.rc('font', **font)"
   ],
   "outputs": [],
   "metadata": {}
  },
  {
   "cell_type": "code",
   "execution_count": 3,
   "source": [
    "venues = json.load(open('../data/json/dim/all/ert/venue_erts.json'))\r\n",
    "advisors = json.load(open('../data/json/dim/all/ert/advisor_erts.json'))\r\n",
    "referees = json.load(open('../data/json/dim/all/ert/referee_erts.json'))"
   ],
   "outputs": [],
   "metadata": {}
  },
  {
   "cell_type": "code",
   "execution_count": 4,
   "source": [
    "len(venues), len(advisors), len(referees)"
   ],
   "outputs": [
    {
     "output_type": "execute_result",
     "data": {
      "text/plain": [
       "(4253, 1093, 10197)"
      ]
     },
     "metadata": {},
     "execution_count": 4
    }
   ],
   "metadata": {}
  },
  {
   "cell_type": "code",
   "execution_count": 5,
   "source": [
    "# Remove nomen nescio contributors (present in refubium)\r\n",
    "for contributors in (advisors, referees):\r\n",
    "  delete = []\r\n",
    "  for contributor in contributors:\r\n",
    "    if re.match('N\\.[\\s]?N[\\.]?', contributor) is not None:\r\n",
    "      delete.append(contributor)\r\n",
    "  for contributor in delete:\r\n",
    "    del contributors[contributor]\r\n",
    "len(venues), len(advisors), len(referees)"
   ],
   "outputs": [
    {
     "output_type": "execute_result",
     "data": {
      "text/plain": [
       "(4253, 1093, 10193)"
      ]
     },
     "metadata": {},
     "execution_count": 5
    }
   ],
   "metadata": {}
  },
  {
   "cell_type": "code",
   "execution_count": 7,
   "source": [
    "venues_cnt = Counter([len(v['ids']) for v in venues.values()])\r\n",
    "advisors_cnt = Counter([len(v['ids']) for v in advisors.values()])\r\n",
    "referees_cnt = Counter([len(v['ids']) for v in referees.values()])"
   ],
   "outputs": [],
   "metadata": {}
  },
  {
   "cell_type": "code",
   "execution_count": 8,
   "source": [
    "venue_y = [tup[1] for tup in sorted(venues_cnt.items(), key=lambda item: item[0])]\r\n",
    "advisor_y = [tup[1] for tup in sorted(advisors_cnt.items(), key=lambda item: item[0])]\r\n",
    "referee_y = [tup[1] for tup in sorted(referees_cnt.items(), key=lambda item: item[0])]"
   ],
   "outputs": [],
   "metadata": {}
  },
  {
   "cell_type": "code",
   "execution_count": 9,
   "source": [
    "x = np.array([1, 2, 3, 4])\r\n",
    "width = .25\r\n",
    "plt.figure(figsize=(10,7))\r\n",
    "plt.bar(x-width, venue_y, width, label='Venues')\r\n",
    "plt.bar(x, advisor_y, width, label='Advisors')\r\n",
    "plt.bar(x+width, referee_y, width, label='Referees')\r\n",
    "plt.ylabel('No. of items')\r\n",
    "plt.xlabel('No. of documents')\r\n",
    "plt.xticks(x, [1,2,3,4])\r\n",
    "plt.legend()\r\n",
    "plt.show()"
   ],
   "outputs": [
    {
     "output_type": "display_data",
     "data": {
      "image/png": "[encoded data removed]",
      "text/plain": [
       "<Figure size 720x504 with 1 Axes>"
      ]
     },
     "metadata": {
      "needs_background": "light"
     }
    }
   ],
   "metadata": {}
  },
  {
   "cell_type": "code",
   "execution_count": 10,
   "source": [
    "for cnt in (venues_cnt, advisors_cnt, referees_cnt):\r\n",
    "  for n_docs, val in cnt.items():\r\n",
    "    print(f'{n_docs} -> {round(val/sum(cnt.values()), 2)}')\r\n",
    "  print()"
   ],
   "outputs": [
    {
     "output_type": "stream",
     "name": "stdout",
     "text": [
      "4 -> 0.15\n",
      "1 -> 0.66\n",
      "2 -> 0.14\n",
      "3 -> 0.06\n",
      "\n",
      "4 -> 0.2\n",
      "3 -> 0.07\n",
      "1 -> 0.59\n",
      "2 -> 0.13\n",
      "\n",
      "4 -> 0.11\n",
      "1 -> 0.73\n",
      "2 -> 0.11\n",
      "3 -> 0.05\n",
      "\n"
     ]
    }
   ],
   "metadata": {}
  },
  {
   "cell_type": "code",
   "execution_count": 11,
   "source": [
    "for item in (venues, advisors, referees):\r\n",
    "  lengths = [len(v['ert']) for v in item.values()]\r\n",
    "  print(sum(lengths)/len(lengths))"
   ],
   "outputs": [
    {
     "output_type": "stream",
     "name": "stdout",
     "text": [
      "2238.8652715730072\n",
      "5666.239707227814\n",
      "2769.4202884332385\n"
     ]
    }
   ],
   "metadata": {}
  },
  {
   "cell_type": "markdown",
   "source": [
    "Why are the ERTs of advisors so much longer than those of venues and referees?"
   ],
   "metadata": {}
  },
  {
   "cell_type": "code",
   "execution_count": 12,
   "source": [
    "for item in (venues, advisors, referees):\r\n",
    "  sorted_lens = sorted([len(v['ert']) for v in item.values()], reverse=True)\r\n",
    "  print(sorted_lens[:7])\r\n",
    "  print(sorted_lens[-5:])\r\n",
    "  print()"
   ],
   "outputs": [
    {
     "output_type": "stream",
     "name": "stdout",
     "text": [
      "[12514, 12279, 11490, 11455, 11155, 11152, 11069]\n",
      "[18, 16, 16, 14, 12]\n",
      "\n",
      "[22117, 21070, 21060, 20968, 20630, 20308, 19029]\n",
      "[143, 79, 72, 67, 62]\n",
      "\n",
      "[42714, 34007, 29188, 26953, 24530, 24224, 23916]\n",
      "[0, 0, 0, 0, 0]\n",
      "\n"
     ]
    }
   ],
   "metadata": {}
  },
  {
   "cell_type": "markdown",
   "source": [
    "What is the average representation length of theses and publications per repository?"
   ],
   "metadata": {}
  },
  {
   "cell_type": "code",
   "execution_count": 13,
   "source": [
    "def belongs_to(id, data):\r\n",
    "  for key, val in data.items():\r\n",
    "    if id in val['ids']:\r\n",
    "      return key\r\n",
    "  return None"
   ],
   "outputs": [],
   "metadata": {}
  },
  {
   "cell_type": "code",
   "execution_count": 15,
   "source": [
    "for repo in ('depositonce', 'edoc', 'refubium'):\r\n",
    "  types = json.load(open(f'../data/json/dim/{repo}/relevant_types.json'))\r\n",
    "  theses, pubs = [], []\r\n",
    "  for id, doc_type in types.items():\r\n",
    "    if 'thesis' in doc_type:\r\n",
    "      for experts in (advisors, referees):\r\n",
    "        key = belongs_to(id, experts)\r\n",
    "        if key is not None:\r\n",
    "          theses.append(len(experts[key]['ert']))\r\n",
    "    else:\r\n",
    "      key = belongs_to(id, venues)\r\n",
    "      if key is not None:\r\n",
    "        pubs.append(len(venues[key]['ert']))\r\n",
    "  print(repo)\r\n",
    "  if len(theses) > 0:\r\n",
    "    print(f'Theses: {sum(theses)/len(theses)}')\r\n",
    "  if len(pubs) > 0:\r\n",
    "    print(f'Publications: {sum(pubs)/len(pubs)}')"
   ],
   "outputs": [
    {
     "output_type": "stream",
     "name": "stdout",
     "text": [
      "depositonce\n",
      "Theses: 8586.833427124368\n",
      "Publications: 2977.5361233480176\n",
      "edoc\n",
      "Theses: 5428.054479418886\n",
      "Publications: 2417.91968503937\n",
      "refubium\n",
      "Theses: 3064.93797856049\n",
      "Publications: 3652.0407103825137\n"
     ]
    }
   ],
   "metadata": {}
  },
  {
   "cell_type": "code",
   "execution_count": null,
   "source": [],
   "outputs": [],
   "metadata": {}
  }
 ],
 "metadata": {
  "orig_nbformat": 4,
  "language_info": {
   "name": "python",
   "version": "3.7.6",
   "mimetype": "text/x-python",
   "codemirror_mode": {
    "name": "ipython",
    "version": 3
   },
   "pygments_lexer": "ipython3",
   "nbconvert_exporter": "python",
   "file_extension": ".py"
  },
  "kernelspec": {
   "name": "python3",
   "display_name": "Python 3.7.6 64-bit ('base': conda)"
  },
  "interpreter": {
   "hash": "afec8bd1b97d7d536c9012edeeda7c68a0e99e84af90a3d324c5b7b0f06b2586"
  }
 },
 "nbformat": 4,
 "nbformat_minor": 2
}